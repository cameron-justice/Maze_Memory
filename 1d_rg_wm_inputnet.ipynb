{
 "cells": [
  {
   "cell_type": "markdown",
   "metadata": {},
   "source": [
    "## Original input net version with eligibility and policy errors"
   ]
  },
  {
   "cell_type": "code",
   "execution_count": 17,
   "metadata": {},
   "outputs": [],
   "source": [
    "from hrr import *\n",
    "import os\n",
    "os.environ['TF_CPP_MIN_LOG_LEVEL'] = '3'\n",
    "import tensorflow as tf\n",
    "import numpy as np\n",
    "from collections import deque\n",
    "import matplotlib.pyplot as plt"
   ]
  },
  {
   "cell_type": "code",
   "execution_count": 18,
   "metadata": {},
   "outputs": [
    {
     "name": "stdout",
     "output_type": "stream",
     "text": [
      "[[[0. 0. 0. ... 0. 0. 0.]]]\n"
     ]
    }
   ],
   "source": [
    "maze_size = 20 # Number of points\n",
    "goal = [3,13] # Place the session ends\n",
    "reward_bad = -1 # Reward for normal tiles\n",
    "reward_goal = 0 # Reward for goal tiles\n",
    "\n",
    "action_set = [\"left\", \"right\"] # Available actions the agent can take\n",
    "gate_action_set = [\"open\", \"close\"]\n",
    "\n",
    "color_set = [\"red\", \"green\"]\n",
    "\n",
    "hrr_size = 1024 # Dimensionality of the HRRs (minimum 10x maze_size)\n",
    "\n",
    "policy_gamma = 0.9 # Delayed reward coefficient \n",
    "policy_alpha = 0.001 # Learning rate\n",
    "policy_epsilon = 0.03 # Random action chance\n",
    "policy_lambda = 0.1 # \n",
    "\n",
    "input_epsilon = 0.7\n",
    "\n",
    "epochs = 5000 \n",
    "max_moves = maze_size\n",
    "\n",
    "bias = 0.0 # Bias input for the agent \n",
    "eligibility = np.zeros([1,1,hrr_size]) \n",
    "input_eligibility = np.zeros([1,1,hrr_size])\n",
    "targets = np.zeros([1,1,1]) # Q-Factored Qt values\n",
    "input_targets = targets\n",
    "\n",
    "choice_function = np.mean \n",
    "\n",
    "n_strats = 1\n",
    "\n",
    "print(eligibility)"
   ]
  },
  {
   "cell_type": "code",
   "execution_count": 19,
   "metadata": {},
   "outputs": [
    {
     "name": "stdout",
     "output_type": "stream",
     "text": [
      "Model: \"model_4\"\n",
      "_________________________________________________________________\n",
      "Layer (type)                 Output Shape              Param #   \n",
      "=================================================================\n",
      "input_5 (InputLayer)         [(None, 1, 1024)]         0         \n",
      "_________________________________________________________________\n",
      "dense_10 (Dense)             (None, 1, 32)             32768     \n",
      "_________________________________________________________________\n",
      "dense_11 (Dense)             (None, 1, 32)             1024      \n",
      "_________________________________________________________________\n",
      "dense_12 (Dense)             (None, 1, 1)              32        \n",
      "=================================================================\n",
      "Total params: 33,824\n",
      "Trainable params: 33,824\n",
      "Non-trainable params: 0\n",
      "_________________________________________________________________\n"
     ]
    }
   ],
   "source": [
    "hidden_size = 32 # Number of nodes in hidden layers\n",
    "input_layer = tf.keras.layers.Input(shape=[1,hrr_size]) # Defined input layer for HRR\n",
    "\n",
    "# First hidden layer - nonlinear\n",
    "hidden_layer = tf.keras.layers.Dense(hidden_size, activation='relu', use_bias=False)(input_layer)\n",
    "# Second hidden layer - nonlinear\n",
    "hidden_layer = tf.keras.layers.Dense(hidden_size, activation='relu', use_bias=False)(hidden_layer)\n",
    "\n",
    "output_layer = tf.keras.layers.Dense(1, use_bias=False)(hidden_layer)\n",
    "\n",
    "#c_layer = output_layer\n",
    "#output_layer = tf.keras.layers.Reshape((1,1))(c_layer) # Shouldn't need due to only 1 strat\n",
    "\n",
    "model = tf.keras.models.Model([input_layer],[output_layer])\n",
    "\n",
    "model.compile(loss=tf.keras.losses.mse,\n",
    "             optimizer=tf.keras.optimizers.SGD(learning_rate=policy_alpha))\n",
    "model.summary()"
   ]
  },
  {
   "cell_type": "code",
   "execution_count": 20,
   "metadata": {},
   "outputs": [
    {
     "name": "stdout",
     "output_type": "stream",
     "text": [
      "Model: \"model_5\"\n",
      "_________________________________________________________________\n",
      "Layer (type)                 Output Shape              Param #   \n",
      "=================================================================\n",
      "input_6 (InputLayer)         [(None, 1, 1024)]         0         \n",
      "_________________________________________________________________\n",
      "dense_13 (Dense)             (None, 1, 8)              8192      \n",
      "_________________________________________________________________\n",
      "dense_14 (Dense)             (None, 1, 1)              8         \n",
      "=================================================================\n",
      "Total params: 8,200\n",
      "Trainable params: 8,200\n",
      "Non-trainable params: 0\n",
      "_________________________________________________________________\n"
     ]
    }
   ],
   "source": [
    "hidden_size = 8 # Number of nodes in hidden layers\n",
    "input_layer = tf.keras.layers.Input(shape=[1,hrr_size]) # Defined input layer for HRR\n",
    "\n",
    "# First hidden layer - nonlinear\n",
    "hidden_layer = tf.keras.layers.Dense(hidden_size, activation='relu', use_bias=False)(input_layer)\n",
    "\n",
    "output_layer = tf.keras.layers.Dense(1, use_bias=False)(hidden_layer)\n",
    "\n",
    "#c_layer = output_layer\n",
    "#output_layer = tf.keras.layers.Reshape((1,1))(c_layer) # Shouldn't need due to only 1 strat\n",
    "\n",
    "input_model = tf.keras.models.Model([input_layer],[output_layer])\n",
    "\n",
    "input_model.compile(loss=tf.keras.losses.mse,\n",
    "             optimizer=tf.keras.optimizers.SGD(learning_rate=policy_alpha))\n",
    "input_model.summary()"
   ]
  },
  {
   "cell_type": "code",
   "execution_count": 21,
   "metadata": {},
   "outputs": [],
   "source": [
    "ltm = LTM(N=hrr_size, normalized=True, M=1)\n",
    "\n",
    "suboptimal_steps = [] # performance tracker for "
   ]
  },
  {
   "cell_type": "code",
   "execution_count": 22,
   "metadata": {},
   "outputs": [],
   "source": [
    "\n",
    "def selection_function(action_votes):\n",
    "    (x,y) = np.unique(action_votes, return_counts=True)\n",
    "    return x[y.argmax()]\n",
    "\n",
    "def logmod(x):\n",
    "    return np.sign(x)*np.log(np.abs(x)+1.0)\n",
    "\n",
    "def encode(state, action, signal, wm=\"I\"):\n",
    "    comp = \"state\"+str(state)+\"*\"+str(action)+\"*\"+str(signal) + \"*\"+\"wm_\"+str(wm)\n",
    "    return np.array([ltm.encode(comp)])\n",
    "\n",
    "def maxq(model, state, signal, wm, action_set):\n",
    "    hrr = np.vstack([encode(state, action, signal) for action in action_set])\n",
    "    hrr_wm = np.vstack([encode(state, action, signal, wm) for action in action_set])\n",
    "    hrrs = np.vstack([hrr, hrr_wm])\n",
    "    values = model.predict(hrrs)+bias\n",
    "    max_actions = values.argmax(0)\n",
    "    action = max_actions[values.argmax()%n_strats][0]\n",
    "    return [np.hstack([values[max_actions[x],x:x+1,:] for x in range(n_strats)]),\n",
    "            hrrs[action:action+1,:,:],\n",
    "            action_set[action%len(action_set)]]\n",
    "\n",
    "def greedyq(model, state, signal, wm, action_set):\n",
    "    hrr = np.vstack([encode(state, action, signal) for action in action_set])\n",
    "    hrr_wm = np.vstack([encode(state, action, signal, wm) for action in action_set])\n",
    "    hrrs = np.vstack([hrr, hrr_wm])\n",
    "    \n",
    "    values = model.predict(hrrs)+bias\n",
    "    max_actions = values.argmax(0)\n",
    "    action = max_actions[values.argmax()%n_strats][0]\n",
    "    return [values[action:action+1,:,:],\n",
    "            hrrs[action:action+1,:,:],\n",
    "            action_set[action%len(action_set)],\n",
    "            wm]\n",
    "\n",
    "def randomgreedyq(model, state, action_set):\n",
    "    hrr = np.vstack([encode(state, action_set[0]), encode(state, action_set[1])])\n",
    "    values = model.predict(hrr)+bias\n",
    "    max_actions = values.argmax(0)\n",
    "    action = max_actions[np.random.choice(n_strats)][0]\n",
    "    return [values[action:action+1,:,:],\n",
    "            hrr[action:action+1,:,:],\n",
    "            action_set[action]]\n",
    "\n",
    "def randomq(model, state, signal, wm, action_set, eligibility):\n",
    "    eligibility[:,:,:] = 0.0\n",
    "    action = np.random.choice(action_set)\n",
    "    hrr = encode(state, action, signal)\n",
    "    value = model.predict(hrr)+bias\n",
    "    return [value,\n",
    "            hrr,\n",
    "            action,\n",
    "            wm]"
   ]
  },
  {
   "cell_type": "code",
   "execution_count": 23,
   "metadata": {},
   "outputs": [
    {
     "name": "stdout",
     "output_type": "stream",
     "text": [
      "Episode: 5000"
     ]
    }
   ],
   "source": [
    "\n",
    "\n",
    "for epoch in range(epochs):\n",
    "    eligibility[:,:,:] = 0\n",
    "    input_eligibility[:,:,:] = 0\n",
    "    current_state = np.random.choice(range(maze_size))\n",
    "    goal_idx = np.random.choice(range(len(color_set)))\n",
    "    optimal_steps = min((current_state-goal[goal_idx])%maze_size,  (goal[goal_idx]-current_state)%maze_size)\n",
    "    current_signal = color_set[goal_idx]\n",
    "    \n",
    "    current_wm = \"I\"\n",
    "    \n",
    "    if(epoch+1) % 10 == 0:\n",
    "        print('\\rEpisode:', (epoch+1), end='')\n",
    "        \n",
    "    for step in range(max_moves):\n",
    "        \n",
    "        if current_state == goal[goal_idx]:\n",
    "            break\n",
    "        \n",
    "        if np.random.random() < policy_epsilon:\n",
    "            [current_input_value, _, current_input_action, _] = randomq(input_model, current_state, current_signal, current_wm, gate_action_set, input_eligibility)\n",
    "        else:\n",
    "            [current_input_value, _, current_input_action, _] = greedyq(input_model, current_state, current_signal, current_wm, gate_action_set)\n",
    "            \n",
    "        \n",
    "        if np.random.random() < policy_epsilon:\n",
    "            [current_value, current_hrr, current_action, current_wm] = randomq(model, current_state, current_signal, current_wm, action_set, eligibility)\n",
    "        else:\n",
    "            [current_value, current_hrr, current_action, current_wm] = greedyq(model, current_state, current_signal, current_wm, action_set)\n",
    "            \n",
    "        previous_value = current_value\n",
    "        previous_hrr = current_hrr\n",
    "        previous_wm = current_wm\n",
    "        \n",
    "        previous_input_value = current_input_value\n",
    "        \n",
    "        if current_input_action == \"open\":\n",
    "            current_wm = current_signal\n",
    "        \n",
    "        if current_action == action_set[0]:\n",
    "            current_state = (current_state-1)%maze_size\n",
    "        else:\n",
    "            current_state = (current_state+1)%maze_size\n",
    "            \n",
    "        if current_state == goal[goal_idx]:\n",
    "            delta = reward_goal - previous_value\n",
    "            target = logmod(delta) + previous_value\n",
    "        else:\n",
    "            [current_value,_,_] = maxq(model, current_state, current_signal, current_wm, action_set)\n",
    "            delta = (reward_bad + (policy_gamma * current_value)) - previous_value\n",
    "            target = logmod(delta) + previous_value\n",
    "        \n",
    "        if current_state == goal[goal_idx]:\n",
    "            input_delta = reward_goal - previous_input_value\n",
    "            input_target = logmod(input_delta) + previous_input_value\n",
    "        else:\n",
    "            [current_input_value,_,_] = maxq(input_model, current_state, current_signal, current_wm, gate_action_set)\n",
    "            input_delta = (reward_bad + (policy_gamma * current_value)) - previous_value\n",
    "            input_target = logmod(input_delta) + previous_input_value\n",
    "            \n",
    "        targets[:,:,:] = target\n",
    "        input_targets[:,:,:] = input_target\n",
    "        \n",
    "        eligibility = (policy_lambda * eligibility) + previous_hrr\n",
    "        input_eligibility = (policy_lambda * input_eligibility) + previous_hrr\n",
    "        \n",
    "        model.fit(eligibility, targets-bias, verbose=0)\n",
    "        \n",
    "        input_model.fit(input_eligibility, input_targets+bias, verbose=0)\n",
    "        \n",
    "        current_signal = \"I\"\n",
    "        \n",
    "    suboptimal_steps.append(step - optimal_steps)\n",
    "            "
   ]
  },
  {
   "cell_type": "code",
   "execution_count": 24,
   "metadata": {},
   "outputs": [
    {
     "data": {
      "image/png": "[encoded data removed]",
      "text/plain": [
       "<Figure size 432x288 with 1 Axes>"
      ]
     },
     "metadata": {
      "needs_background": "light"
     },
     "output_type": "display_data"
    },
    {
     "data": {
      "image/png": "[encoded data removed]",
      "text/plain": [
       "<Figure size 432x288 with 1 Axes>"
      ]
     },
     "metadata": {
      "needs_background": "light"
     },
     "output_type": "display_data"
    }
   ],
   "source": [
    "data = []\n",
    "for action in action_set:\n",
    "    for color in color_set:\n",
    "        data += [choice_function(model.predict(encode(state, action, color))+bias) for state in range(maze_size)]\n",
    "data = np.reshape(data, [4,maze_size]).T\n",
    "plt.plot(data)\n",
    "plt.legend([\"left red\", \"left green\", \"right red\", \"right green\"])\n",
    "plt.show()\n",
    "\n",
    "window_size = 100\n",
    "data = [np.mean(suboptimal_steps[x:x+window_size]) for x in range(len(suboptimal_steps)-window_size)]\n",
    "plt.plot(data)\n",
    "plt.show()"
   ]
  },
  {
   "cell_type": "code",
   "execution_count": null,
   "metadata": {},
   "outputs": [],
   "source": []
  }
 ],
 "metadata": {
  "kernelspec": {
   "display_name": "Python 3",
   "language": "python",
   "name": "python3"
  },
  "language_info": {
   "codemirror_mode": {
    "name": "ipython",
    "version": 3
   },
   "file_extension": ".py",
   "mimetype": "text/x-python",
   "name": "python",
   "nbconvert_exporter": "python",
   "pygments_lexer": "ipython3",
   "version": "3.7.6"
  }
 },
 "nbformat": 4,
 "nbformat_minor": 4
}
