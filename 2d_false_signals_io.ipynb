{
 "cells": [
  {
   "cell_type": "markdown",
   "metadata": {},
   "source": [
    "# Attempt at learning to ignore signals"
   ]
  },
  {
   "cell_type": "code",
   "execution_count": 32,
   "metadata": {},
   "outputs": [],
   "source": [
    "from hrr import *\n",
    "from Agent import *\n",
    "import os\n",
    "os.environ['TF_CPP_MIN_LOG_LEVEL'] = '3'\n",
    "import tensorflow as tf\n",
    "import numpy as np\n",
    "from collections import deque\n",
    "import matplotlib.pyplot as plt"
   ]
  },
  {
   "cell_type": "code",
   "execution_count": 33,
   "metadata": {},
   "outputs": [],
   "source": [
    "color_set = [\"red\", \"green\"]\n",
    "fake_signals = [\"yellow\"]\n",
    "\n",
    "maze_size = 20\n",
    "row_size = 4\n",
    "\n",
    "goals = [4,7]\n",
    "\n",
    "hrr_size = 1024 # Dimensionality of the HRRs (minimum 10x maze_size)\n",
    "\n",
    "# All now pre-assigned in Agent, but can be overwritten in constructor\n",
    "policy_gamma = 0.9 # Delayed reward coefficient \n",
    "policy_alpha = 0.001 # Learning rate\n",
    "policy_epsilon = 0.03 # Random action chance\n",
    "policy_lambda = 0.1 # delta affector\n",
    "\n",
    "epochs = 1000 \n",
    "max_moves = maze_size\n",
    "\n",
    "ltm = LTM(N=hrr_size, normalized=True, M=1)\n",
    "yellow_steps = []\n",
    "\n",
    "choice_function = np.mean "
   ]
  },
  {
   "cell_type": "code",
   "execution_count": 34,
   "metadata": {},
   "outputs": [],
   "source": [
    "actor = Agent([\"left\", \"right\", \"up\", \"down\"], 32, ltm)\n",
    "i_gate = Agent([\"open\", \"close\"], 8, ltm)\n",
    "o_gate = Agent([\"open\", \"close\"], 8, ltm)"
   ]
  },
  {
   "cell_type": "code",
   "execution_count": 35,
   "metadata": {},
   "outputs": [
    {
     "name": "stdout",
     "output_type": "stream",
     "text": [
      "Episode: 1000"
     ]
    }
   ],
   "source": [
    "for epoch in range(epochs):\n",
    "    current_state = np.random.choice(maze_size)\n",
    "    goal_idx = np.random.choice(range(len(color_set)))\n",
    "    steps_with_yellow = 0\n",
    "    current_signal = color_set[goal_idx]\n",
    "    fake_signal = fake_signals[np.random.choice(range(len(fake_signals)))]\n",
    "    \n",
    "    current_wm = \"I\"\n",
    "    wm_slot = \"I\"\n",
    "    \n",
    "    if(epoch+1) % 10 == 0:\n",
    "        print('\\rEpisode:', (epoch+1), end='')\n",
    "        \n",
    "    for step in range(max_moves):\n",
    "        if current_state == goals[goal_idx]:\n",
    "            break\n",
    "\n",
    "        if (step+1) % 5 == 0 and step != 0:\n",
    "            current_signal = fake_signal\n",
    "        \n",
    "        if current_signal != \"I\":\n",
    "            i_gate.policy(current_state, current_signal, current_wm)\n",
    "        \n",
    "            if i_gate.current_action == i_gate.action_set[0]:\n",
    "                wm_slot = current_signal\n",
    "                \n",
    "        o_gate.policy(current_state, current_signal, current_wm)\n",
    "            \n",
    "        if o_gate.current_action == o_gate.action_set[0]:\n",
    "            current_wm = wm_slot\n",
    "        \n",
    "        actor.policy(current_state, current_signal, current_wm)\n",
    "        \n",
    "        prev_state = current_state\n",
    "        \n",
    "        if actor.current_action == actor.action_set[0]:\n",
    "            current_state = current_state-1\n",
    "            current_state = current_state+row_size if (current_state+1) % row_size == 0 else current_state\n",
    "        elif actor.current_action == actor.action_set[1]:\n",
    "            current_state = (current_state+1)\n",
    "            current_state = current_state-row_size if current_state % row_size == 0 else current_state\n",
    "        elif actor.current_action == actor.action_set[2]:\n",
    "            current_state = (current_state-row_size)%maze_size\n",
    "        elif actor.current_action == actor.action_set[3]:\n",
    "            current_state = (current_state+row_size)%maze_size\n",
    "            \n",
    "        is_goal = current_state == goals[goal_idx]\n",
    "            \n",
    "        actor.update(current_state, current_signal, current_wm, is_goal)\n",
    "        if current_signal != \"I\":\n",
    "            i_gate.update(current_state, current_signal, current_wm, is_goal)\n",
    "        o_gate.update(current_state, current_signal, current_wm, is_goal)\n",
    "            \n",
    "        current_signal = \"I\"\n",
    "        if current_wm == \"yellow\":\n",
    "            steps_with_yellow += 1\n",
    "\n",
    "    yellow_steps.append(steps_with_yellow)"
   ]
  },
  {
   "cell_type": "code",
   "execution_count": 36,
   "metadata": {},
   "outputs": [
    {
     "data": {
      "image/png": "[encoded data removed]",
      "text/plain": [
       "<Figure size 432x288 with 1 Axes>"
      ]
     },
     "metadata": {
      "needs_background": "light"
     },
     "output_type": "display_data"
    }
   ],
   "source": [
    "window_size = 100\n",
    "data = [np.mean(yellow_steps[x:x+window_size]) for x in range(len(yellow_steps) - window_size)]\n",
    "plt.plot(data)\n",
    "plt.show()"
   ]
  },
  {
   "cell_type": "code",
   "execution_count": null,
   "metadata": {},
   "outputs": [],
   "source": []
  }
 ],
 "metadata": {
  "kernelspec": {
   "display_name": "Python 3",
   "language": "python",
   "name": "python3"
  },
  "language_info": {
   "codemirror_mode": {
    "name": "ipython",
    "version": 3
   },
   "file_extension": ".py",
   "mimetype": "text/x-python",
   "name": "python",
   "nbconvert_exporter": "python",
   "pygments_lexer": "ipython3",
   "version": "3.7.6"
  }
 },
 "nbformat": 4,
 "nbformat_minor": 4
}
